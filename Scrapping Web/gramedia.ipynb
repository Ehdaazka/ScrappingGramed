{
 "cells": [
  {
   "cell_type": "code",
   "execution_count": 1,
   "metadata": {},
   "outputs": [],
   "source": [
    "\n",
    "from selenium import webdriver as wd\n",
    "from selenium.webdriver.support.ui import WebDriverWait\n",
    "from selenium.webdriver.support import expected_conditions as EC\n",
    "from selenium.webdriver.common.by import By\n",
    "import pandas as pd\n",
    "\n",
    "\n",
    "wb_d = wd.Chrome()\n",
    "wb_d.get('https://www.gramedia.com/categories/buku?category=fiksi-sastra&per_page=50&based_on=new-arrival')\n",
    "\n",
    "\n",
    "\n",
    "containers = WebDriverWait(wb_d, 100).until(EC.presence_of_all_elements_located((By.XPATH, \"//gm-product-list\")))\n",
    "\n",
    "data = []\n",
    "for container in containers:\n",
    "    try:\n",
    "        title = container.find_element(By.XPATH, \".//div[@class='list-title']\").get_attribute(\"innerHTML\")\n",
    "        author = container.find_element(By.XPATH, \".//span[contains(@class,'list-author')]\").get_attribute(\"innerHTML\")\n",
    "        price = container.find_element(By.XPATH, \".//p[contains(@class,'formats-price')]\").get_attribute(\"innerHTML\")\n",
    "        \n",
    "        produk = dict(title=title, author=author, price=price)\n",
    "        data.append(produk)\n",
    "    except:\n",
    "        continue\n",
    "\n",
    "\n",
    "# print(data)\n",
    "data = pd.DataFrame(data)\n",
    "\n",
    "\n",
    "def olah_harga(row):\n",
    "    row.price = row.price.replace('Rp','')\n",
    "    row.price = row.price.replace('.','')\n",
    "    return row\n",
    "\n",
    "\n",
    "data = data.apply(olah_harga, axis=1)\n",
    "\n",
    "data.to_csv('gramedia.csv', index=False)\n",
    "\n",
    "wb_d.quit()\n"
   ]
  }
 ],
 "metadata": {
  "kernelspec": {
   "display_name": "base",
   "language": "python",
   "name": "python3"
  },
  "language_info": {
   "codemirror_mode": {
    "name": "ipython",
    "version": 3
   },
   "file_extension": ".py",
   "mimetype": "text/x-python",
   "name": "python",
   "nbconvert_exporter": "python",
   "pygments_lexer": "ipython3",
   "version": "3.10.9"
  },
  "orig_nbformat": 4
 },
 "nbformat": 4,
 "nbformat_minor": 2
}
